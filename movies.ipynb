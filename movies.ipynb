{
 "cells": [
  {
   "cell_type": "code",
   "execution_count": 20,
   "metadata": {},
   "outputs": [],
   "source": [
    "#Libraries\n",
    "import pandas as pd\n",
    "import numpy as np\n",
    "import matplotlib.pyplot as plt\n",
    "import seaborn as sns\n",
    "import requests\n",
    "import json\n",
    "from decouple import config #---> to hide credentials\n",
    "\n",
    "\n",
    "\n",
    "#Settings\n",
    "pd.options.display.max_columns = 30\n",
    "pd.options.display.float_format = '{:.2f}'.format"
   ]
  },
  {
   "cell_type": "code",
   "execution_count": 18,
   "metadata": {},
   "outputs": [],
   "source": [
    "#Credenciales Ocultas\n",
    "TOKEN = config('TOKEN')"
   ]
  },
  {
   "cell_type": "code",
   "execution_count": 19,
   "metadata": {},
   "outputs": [
    {
     "data": {
      "text/plain": [
       "'https://api.themoviedb.org/3/movie/140607?api_key=56485b5ec38f182f7cc817eeeab66a7e'"
      ]
     },
     "execution_count": 19,
     "metadata": {},
     "output_type": "execute_result"
    }
   ],
   "source": [
    "movie_id = 140607 #--> ID for Star Wars: The force Awakens\n",
    "movie_api = \"https://api.themoviedb.org/3/movie/{}?\"\n",
    "url = movie_api.format(movie_id) +'api_key='+TOKEN\n",
    "url"
   ]
  },
  {
   "cell_type": "code",
   "execution_count": 22,
   "metadata": {},
   "outputs": [],
   "source": [
    "r = requests.get(url)\n",
    "data = r.json()"
   ]
  },
  {
   "cell_type": "code",
   "execution_count": 24,
   "metadata": {},
   "outputs": [
    {
     "data": {
      "text/plain": [
       "dict"
      ]
     },
     "execution_count": 24,
     "metadata": {},
     "output_type": "execute_result"
    }
   ],
   "source": [
    "type(data)"
   ]
  },
  {
   "cell_type": "code",
   "execution_count": 25,
   "metadata": {},
   "outputs": [
    {
     "data": {
      "text/plain": [
       "{'adult': False,\n",
       " 'backdrop_path': '/k6EOrckWFuz7I4z4wiRwz8zsj4H.jpg',\n",
       " 'belongs_to_collection': {'id': 10,\n",
       "  'name': 'Star Wars Collection',\n",
       "  'poster_path': '/bYbHqvRANCpuRTs0RAu10LhmVKU.jpg',\n",
       "  'backdrop_path': '/d8duYyyC9J5T825Hg7grmaabfxQ.jpg'},\n",
       " 'budget': 245000000,\n",
       " 'genres': [{'id': 12, 'name': 'Adventure'},\n",
       "  {'id': 28, 'name': 'Action'},\n",
       "  {'id': 878, 'name': 'Science Fiction'},\n",
       "  {'id': 14, 'name': 'Fantasy'}],\n",
       " 'homepage': 'http://www.starwars.com/films/star-wars-episode-vii',\n",
       " 'id': 140607,\n",
       " 'imdb_id': 'tt2488496',\n",
       " 'original_language': 'en',\n",
       " 'original_title': 'Star Wars: The Force Awakens',\n",
       " 'overview': 'Thirty years after defeating the Galactic Empire, Han Solo and his allies face a new threat from the evil Kylo Ren and his army of Stormtroopers.',\n",
       " 'popularity': 125.262,\n",
       " 'poster_path': '/wqnLdwVXoBjKibFRR5U3y0aDUhs.jpg',\n",
       " 'production_companies': [{'id': 1,\n",
       "   'logo_path': '/o86DbpburjxrqAzEDhXZcyE8pDb.png',\n",
       "   'name': 'Lucasfilm Ltd.',\n",
       "   'origin_country': 'US'},\n",
       "  {'id': 11461,\n",
       "   'logo_path': '/p9FoEt5shEKRWRKVIlvFaEmRnun.png',\n",
       "   'name': 'Bad Robot',\n",
       "   'origin_country': 'US'}],\n",
       " 'production_countries': [{'iso_3166_1': 'US',\n",
       "   'name': 'United States of America'}],\n",
       " 'release_date': '2015-12-15',\n",
       " 'revenue': 2068223624,\n",
       " 'runtime': 136,\n",
       " 'spoken_languages': [{'english_name': 'English',\n",
       "   'iso_639_1': 'en',\n",
       "   'name': 'English'}],\n",
       " 'status': 'Released',\n",
       " 'tagline': 'Every generation has a story.',\n",
       " 'title': 'Star Wars: The Force Awakens',\n",
       " 'video': False,\n",
       " 'vote_average': 7.3,\n",
       " 'vote_count': 17127}"
      ]
     },
     "execution_count": 25,
     "metadata": {},
     "output_type": "execute_result"
    }
   ],
   "source": [
    "data"
   ]
  },
  {
   "cell_type": "code",
   "execution_count": 26,
   "metadata": {},
   "outputs": [
    {
     "data": {
      "text/plain": [
       "adult                                                                False\n",
       "backdrop_path                             /k6EOrckWFuz7I4z4wiRwz8zsj4H.jpg\n",
       "belongs_to_collection    {'id': 10, 'name': 'Star Wars Collection', 'po...\n",
       "budget                                                           245000000\n",
       "genres                   [{'id': 12, 'name': 'Adventure'}, {'id': 28, '...\n",
       "homepage                 http://www.starwars.com/films/star-wars-episod...\n",
       "id                                                                  140607\n",
       "imdb_id                                                          tt2488496\n",
       "original_language                                                       en\n",
       "original_title                                Star Wars: The Force Awakens\n",
       "overview                 Thirty years after defeating the Galactic Empi...\n",
       "popularity                                                          125.26\n",
       "poster_path                               /wqnLdwVXoBjKibFRR5U3y0aDUhs.jpg\n",
       "production_companies     [{'id': 1, 'logo_path': '/o86DbpburjxrqAzEDhXZ...\n",
       "production_countries     [{'iso_3166_1': 'US', 'name': 'United States o...\n",
       "release_date                                                    2015-12-15\n",
       "revenue                                                         2068223624\n",
       "runtime                                                                136\n",
       "spoken_languages         [{'english_name': 'English', 'iso_639_1': 'en'...\n",
       "status                                                            Released\n",
       "tagline                                      Every generation has a story.\n",
       "title                                         Star Wars: The Force Awakens\n",
       "video                                                                False\n",
       "vote_average                                                          7.30\n",
       "vote_count                                                           17127\n",
       "dtype: object"
      ]
     },
     "execution_count": 26,
     "metadata": {},
     "output_type": "execute_result"
    }
   ],
   "source": [
    "pd.Series(data)"
   ]
  },
  {
   "cell_type": "code",
   "execution_count": 34,
   "metadata": {},
   "outputs": [
    {
     "data": {
      "text/html": [
       "<div>\n",
       "<style scoped>\n",
       "    .dataframe tbody tr th:only-of-type {\n",
       "        vertical-align: middle;\n",
       "    }\n",
       "\n",
       "    .dataframe tbody tr th {\n",
       "        vertical-align: top;\n",
       "    }\n",
       "\n",
       "    .dataframe thead th {\n",
       "        text-align: right;\n",
       "    }\n",
       "</style>\n",
       "<table border=\"1\" class=\"dataframe\">\n",
       "  <thead>\n",
       "    <tr style=\"text-align: right;\">\n",
       "      <th></th>\n",
       "      <th>adult</th>\n",
       "      <th>backdrop_path</th>\n",
       "      <th>budget</th>\n",
       "      <th>genres</th>\n",
       "      <th>homepage</th>\n",
       "      <th>id</th>\n",
       "      <th>imdb_id</th>\n",
       "      <th>original_language</th>\n",
       "      <th>original_title</th>\n",
       "      <th>overview</th>\n",
       "      <th>popularity</th>\n",
       "      <th>poster_path</th>\n",
       "      <th>production_companies</th>\n",
       "      <th>production_countries</th>\n",
       "      <th>release_date</th>\n",
       "      <th>revenue</th>\n",
       "      <th>runtime</th>\n",
       "      <th>spoken_languages</th>\n",
       "      <th>status</th>\n",
       "      <th>tagline</th>\n",
       "      <th>title</th>\n",
       "      <th>video</th>\n",
       "      <th>vote_average</th>\n",
       "      <th>vote_count</th>\n",
       "      <th>belongs_to_collection_id</th>\n",
       "      <th>belongs_to_collection_name</th>\n",
       "      <th>belongs_to_collection_poster_path</th>\n",
       "      <th>belongs_to_collection_backdrop_path</th>\n",
       "    </tr>\n",
       "  </thead>\n",
       "  <tbody>\n",
       "    <tr>\n",
       "      <th>0</th>\n",
       "      <td>False</td>\n",
       "      <td>/k6EOrckWFuz7I4z4wiRwz8zsj4H.jpg</td>\n",
       "      <td>245000000</td>\n",
       "      <td>[{'id': 12, 'name': 'Adventure'}, {'id': 28, '...</td>\n",
       "      <td>http://www.starwars.com/films/star-wars-episod...</td>\n",
       "      <td>140607</td>\n",
       "      <td>tt2488496</td>\n",
       "      <td>en</td>\n",
       "      <td>Star Wars: The Force Awakens</td>\n",
       "      <td>Thirty years after defeating the Galactic Empi...</td>\n",
       "      <td>125.26</td>\n",
       "      <td>/wqnLdwVXoBjKibFRR5U3y0aDUhs.jpg</td>\n",
       "      <td>[{'id': 1, 'logo_path': '/o86DbpburjxrqAzEDhXZ...</td>\n",
       "      <td>[{'iso_3166_1': 'US', 'name': 'United States o...</td>\n",
       "      <td>2015-12-15</td>\n",
       "      <td>2068223624</td>\n",
       "      <td>136</td>\n",
       "      <td>[{'english_name': 'English', 'iso_639_1': 'en'...</td>\n",
       "      <td>Released</td>\n",
       "      <td>Every generation has a story.</td>\n",
       "      <td>Star Wars: The Force Awakens</td>\n",
       "      <td>False</td>\n",
       "      <td>7.30</td>\n",
       "      <td>17127</td>\n",
       "      <td>10</td>\n",
       "      <td>Star Wars Collection</td>\n",
       "      <td>/bYbHqvRANCpuRTs0RAu10LhmVKU.jpg</td>\n",
       "      <td>/d8duYyyC9J5T825Hg7grmaabfxQ.jpg</td>\n",
       "    </tr>\n",
       "  </tbody>\n",
       "</table>\n",
       "</div>"
      ],
      "text/plain": [
       "   adult                     backdrop_path     budget  \\\n",
       "0  False  /k6EOrckWFuz7I4z4wiRwz8zsj4H.jpg  245000000   \n",
       "\n",
       "                                              genres  \\\n",
       "0  [{'id': 12, 'name': 'Adventure'}, {'id': 28, '...   \n",
       "\n",
       "                                            homepage      id    imdb_id  \\\n",
       "0  http://www.starwars.com/films/star-wars-episod...  140607  tt2488496   \n",
       "\n",
       "  original_language                original_title  \\\n",
       "0                en  Star Wars: The Force Awakens   \n",
       "\n",
       "                                            overview  popularity  \\\n",
       "0  Thirty years after defeating the Galactic Empi...      125.26   \n",
       "\n",
       "                        poster_path  \\\n",
       "0  /wqnLdwVXoBjKibFRR5U3y0aDUhs.jpg   \n",
       "\n",
       "                                production_companies  \\\n",
       "0  [{'id': 1, 'logo_path': '/o86DbpburjxrqAzEDhXZ...   \n",
       "\n",
       "                                production_countries release_date     revenue  \\\n",
       "0  [{'iso_3166_1': 'US', 'name': 'United States o...   2015-12-15  2068223624   \n",
       "\n",
       "   runtime                                   spoken_languages    status  \\\n",
       "0      136  [{'english_name': 'English', 'iso_639_1': 'en'...  Released   \n",
       "\n",
       "                         tagline                         title  video  \\\n",
       "0  Every generation has a story.  Star Wars: The Force Awakens  False   \n",
       "\n",
       "   vote_average  vote_count  belongs_to_collection_id  \\\n",
       "0          7.30       17127                        10   \n",
       "\n",
       "  belongs_to_collection_name belongs_to_collection_poster_path  \\\n",
       "0       Star Wars Collection  /bYbHqvRANCpuRTs0RAu10LhmVKU.jpg   \n",
       "\n",
       "  belongs_to_collection_backdrop_path  \n",
       "0    /d8duYyyC9J5T825Hg7grmaabfxQ.jpg  "
      ]
     },
     "execution_count": 34,
     "metadata": {},
     "output_type": "execute_result"
    }
   ],
   "source": [
    "pd.json_normalize(data, sep = \"_\")"
   ]
  },
  {
   "cell_type": "code",
   "execution_count": 27,
   "metadata": {},
   "outputs": [
    {
     "data": {
      "text/html": [
       "<div>\n",
       "<style scoped>\n",
       "    .dataframe tbody tr th:only-of-type {\n",
       "        vertical-align: middle;\n",
       "    }\n",
       "\n",
       "    .dataframe tbody tr th {\n",
       "        vertical-align: top;\n",
       "    }\n",
       "\n",
       "    .dataframe thead th {\n",
       "        text-align: right;\n",
       "    }\n",
       "</style>\n",
       "<table border=\"1\" class=\"dataframe\">\n",
       "  <thead>\n",
       "    <tr style=\"text-align: right;\">\n",
       "      <th></th>\n",
       "      <th>id</th>\n",
       "      <th>name</th>\n",
       "      <th>title</th>\n",
       "    </tr>\n",
       "  </thead>\n",
       "  <tbody>\n",
       "    <tr>\n",
       "      <th>0</th>\n",
       "      <td>12</td>\n",
       "      <td>Adventure</td>\n",
       "      <td>Star Wars: The Force Awakens</td>\n",
       "    </tr>\n",
       "    <tr>\n",
       "      <th>1</th>\n",
       "      <td>28</td>\n",
       "      <td>Action</td>\n",
       "      <td>Star Wars: The Force Awakens</td>\n",
       "    </tr>\n",
       "    <tr>\n",
       "      <th>2</th>\n",
       "      <td>878</td>\n",
       "      <td>Science Fiction</td>\n",
       "      <td>Star Wars: The Force Awakens</td>\n",
       "    </tr>\n",
       "    <tr>\n",
       "      <th>3</th>\n",
       "      <td>14</td>\n",
       "      <td>Fantasy</td>\n",
       "      <td>Star Wars: The Force Awakens</td>\n",
       "    </tr>\n",
       "  </tbody>\n",
       "</table>\n",
       "</div>"
      ],
      "text/plain": [
       "    id             name                         title\n",
       "0   12        Adventure  Star Wars: The Force Awakens\n",
       "1   28           Action  Star Wars: The Force Awakens\n",
       "2  878  Science Fiction  Star Wars: The Force Awakens\n",
       "3   14          Fantasy  Star Wars: The Force Awakens"
      ]
     },
     "execution_count": 27,
     "metadata": {},
     "output_type": "execute_result"
    }
   ],
   "source": [
    "pd.json_normalize(data = data, record_path = \"genres\", meta = \"title\")"
   ]
  },
  {
   "cell_type": "code",
   "execution_count": 33,
   "metadata": {},
   "outputs": [
    {
     "data": {
      "text/html": [
       "<div>\n",
       "<style scoped>\n",
       "    .dataframe tbody tr th:only-of-type {\n",
       "        vertical-align: middle;\n",
       "    }\n",
       "\n",
       "    .dataframe tbody tr th {\n",
       "        vertical-align: top;\n",
       "    }\n",
       "\n",
       "    .dataframe thead th {\n",
       "        text-align: right;\n",
       "    }\n",
       "</style>\n",
       "<table border=\"1\" class=\"dataframe\">\n",
       "  <thead>\n",
       "    <tr style=\"text-align: right;\">\n",
       "      <th></th>\n",
       "      <th>id</th>\n",
       "      <th>logo_path</th>\n",
       "      <th>name</th>\n",
       "      <th>origin_country</th>\n",
       "      <th>title</th>\n",
       "    </tr>\n",
       "  </thead>\n",
       "  <tbody>\n",
       "    <tr>\n",
       "      <th>0</th>\n",
       "      <td>1</td>\n",
       "      <td>/o86DbpburjxrqAzEDhXZcyE8pDb.png</td>\n",
       "      <td>Lucasfilm Ltd.</td>\n",
       "      <td>US</td>\n",
       "      <td>Star Wars: The Force Awakens</td>\n",
       "    </tr>\n",
       "    <tr>\n",
       "      <th>1</th>\n",
       "      <td>11461</td>\n",
       "      <td>/p9FoEt5shEKRWRKVIlvFaEmRnun.png</td>\n",
       "      <td>Bad Robot</td>\n",
       "      <td>US</td>\n",
       "      <td>Star Wars: The Force Awakens</td>\n",
       "    </tr>\n",
       "  </tbody>\n",
       "</table>\n",
       "</div>"
      ],
      "text/plain": [
       "      id                         logo_path            name origin_country  \\\n",
       "0      1  /o86DbpburjxrqAzEDhXZcyE8pDb.png  Lucasfilm Ltd.             US   \n",
       "1  11461  /p9FoEt5shEKRWRKVIlvFaEmRnun.png       Bad Robot             US   \n",
       "\n",
       "                          title  \n",
       "0  Star Wars: The Force Awakens  \n",
       "1  Star Wars: The Force Awakens  "
      ]
     },
     "execution_count": 33,
     "metadata": {},
     "output_type": "execute_result"
    }
   ],
   "source": [
    "pd.json_normalize(data = data, record_path = \"production_companies\", meta = \"title\")"
   ]
  },
  {
   "cell_type": "code",
   "execution_count": 31,
   "metadata": {},
   "outputs": [
    {
     "data": {
      "text/html": [
       "<div>\n",
       "<style scoped>\n",
       "    .dataframe tbody tr th:only-of-type {\n",
       "        vertical-align: middle;\n",
       "    }\n",
       "\n",
       "    .dataframe tbody tr th {\n",
       "        vertical-align: top;\n",
       "    }\n",
       "\n",
       "    .dataframe thead th {\n",
       "        text-align: right;\n",
       "    }\n",
       "</style>\n",
       "<table border=\"1\" class=\"dataframe\">\n",
       "  <thead>\n",
       "    <tr style=\"text-align: right;\">\n",
       "      <th></th>\n",
       "      <th>english_name</th>\n",
       "      <th>iso_639_1</th>\n",
       "      <th>name</th>\n",
       "      <th>title</th>\n",
       "    </tr>\n",
       "  </thead>\n",
       "  <tbody>\n",
       "    <tr>\n",
       "      <th>0</th>\n",
       "      <td>English</td>\n",
       "      <td>en</td>\n",
       "      <td>English</td>\n",
       "      <td>Star Wars: The Force Awakens</td>\n",
       "    </tr>\n",
       "  </tbody>\n",
       "</table>\n",
       "</div>"
      ],
      "text/plain": [
       "  english_name iso_639_1     name                         title\n",
       "0      English        en  English  Star Wars: The Force Awakens"
      ]
     },
     "execution_count": 31,
     "metadata": {},
     "output_type": "execute_result"
    }
   ],
   "source": [
    "pd.json_normalize(data = data, record_path = \"spoken_languages\", meta = \"title\")"
   ]
  },
  {
   "cell_type": "code",
   "execution_count": null,
   "metadata": {},
   "outputs": [],
   "source": []
  }
 ],
 "metadata": {
  "kernelspec": {
   "display_name": "venv",
   "language": "python",
   "name": "venv"
  },
  "language_info": {
   "codemirror_mode": {
    "name": "ipython",
    "version": 3
   },
   "file_extension": ".py",
   "mimetype": "text/x-python",
   "name": "python",
   "nbconvert_exporter": "python",
   "pygments_lexer": "ipython3",
   "version": "3.9.4"
  },
  "orig_nbformat": 4
 },
 "nbformat": 4,
 "nbformat_minor": 2
}
